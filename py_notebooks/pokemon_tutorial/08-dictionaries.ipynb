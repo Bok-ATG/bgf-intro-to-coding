{
 "cells": [
  {"cell_type":"markdown","metadata":{},"source":["# Pokémon Python Tutorial: Dictionaries (Advanced)\n","Nested dicts, .get(), keys/values/items, and dict comprehensions."]},
  {"cell_type":"code","execution_count":null,"metadata":{},"outputs":[],"source":["pokedex = {\n","  25: {'name':'Pikachu','types':['Electric'],'stats':{'hp':35,'atk':55}},\n","  1: {'name':'Bulbasaur','types':['Grass','Poison'],'stats':{'hp':45,'atk':49}},\n","}\n","print(pokedex.get(25, {}).get('name'))\n","for num, rec in pokedex.items():\n","    print(num, '→', rec['name'])\n","hp_map = {num: rec['stats']['hp'] for num, rec in pokedex.items()}\n","print(hp_map)"]},
  {"cell_type":"markdown","metadata":{},"source":["## Practice Time! 🧪"]},
  {"cell_type":"code","execution_count":null,"metadata":{},"outputs":[],"source":["# Exercise: Add a new record for Eevee and update hp_map accordingly.\n","# Your code here\n"]}
 ],
 "metadata": {"kernelspec": {"display_name": "Python 3", "language": "python", "name": "python3"}, "language_info": {"name":"python","version":"3.8.5","mimetype":"text/x-python","file_extension":".py","pygments_lexer":"ipython3","codemirror_mode":{"name":"ipython","version":3}, "nbconvert_exporter":"python"}},
 "nbformat": 4,
 "nbformat_minor": 4
}
