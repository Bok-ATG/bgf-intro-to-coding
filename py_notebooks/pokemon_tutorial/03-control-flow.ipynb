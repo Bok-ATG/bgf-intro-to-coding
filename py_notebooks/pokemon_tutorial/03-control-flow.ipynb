{
 "cells": [
  {
   "cell_type": "markdown",
   "metadata": {},
   "source": [
    "# Pokémon Python Tutorial: Control Flow (if/elif/else)\n",
    "\n",
    "Make decisions with conditions and comparisons."
   ]
  },
  {
   "cell_type": "markdown",
   "metadata": {},
   "source": [
    "## Comparisons & Truthiness\n",
    "- ==, !=, <, >, <=, >=\n",
    "- and, or, not\n",
    "- membership: in\n"
   ]
  },
  {
   "cell_type": "code",
   "execution_count": null,
   "metadata": {},
   "outputs": [],
   "source": [
    "pokemon_type = 'Fire'\n",
    "hp = 39\n",
    "print(hp < 40, hp == 39, 'Water' in ['Fire','Water'])\n",
    "print((pokemon_type == 'Fire') and (hp < 50))\n",
    "print(not (pokemon_type == 'Electric'))\n"
   ]
  },
  {
   "cell_type": "markdown",
   "metadata": {},
   "source": [
    "## if / elif / else\n",
    "Let's write a simple type matchup helper (simplified for teaching)."
   ]
  },
  {
   "cell_type": "code",
   "execution_count": null,
   "metadata": {},
   "outputs": [],
   "source": [
    "attacker = 'Fire'\n",
    "defender = 'Grass'\n",
    "\n",
    "if attacker == 'Fire' and defender in ['Grass', 'Ice', 'Bug', 'Steel']:\n",
    "    effectiveness = 'super effective'\n",
    "elif attacker == 'Water' and defender in ['Fire', 'Rock', 'Ground']:\n",
    "    effectiveness = 'super effective'\n",
    "elif attacker == 'Grass' and defender in ['Water', 'Rock', 'Ground']:\n",
    "    effectiveness = 'super effective'\n",
    "elif attacker == defender:\n",
    "    effectiveness = 'not very effective'\n",
    "else:\n",
    "    effectiveness = 'normally effective'\n",
    "\n",
    "print(f\"{attacker} vs {defender} is {effectiveness}!\")\n"
   ]
  },
  {
   "cell_type": "markdown",
   "metadata": {},
   "source": [
    "## Membership checks\n",
    "Check if a Pokémon knows a move or belongs to a team."
   ]
  },
  {
   "cell_type": "code",
   "execution_count": null,
   "metadata": {},
   "outputs": [],
   "source": [
    "team = ['Pikachu', 'Charmander', 'Eevee']\n",
    "candidate = 'Squirtle'\n",
    "if candidate in team:\n",
    "    print(candidate, 'is already on the team!')\n",
    "else:\n",
    "    print('Adding', candidate)\n",
    "    team.append(candidate)\n",
    "print(team)\n"
   ]
  },
  {
   "cell_type": "markdown",
   "metadata": {},
   "source": [
    "## Practice Time! 🔥💧🌿"
   ]
  },
  {
   "cell_type": "code",
   "execution_count": null,
   "metadata": {},
   "outputs": [],
   "source": [
    "# Exercise 1: Change attacker/defender and print the effectiveness.\n",
    "# Try Electric vs Water, Water vs Fire, Grass vs Fire, etc.\n",
    "\n",
    "# Your code here\n"
   ]
  },
  {
   "cell_type": "code",
   "execution_count": null,
   "metadata": {},
   "outputs": [],
   "source": [
    "# Exercise 2: Given a hp value, print 'low', 'medium', or 'high' using if/elif/else.\n",
    "# e.g., <40 low, 40-70 medium, >70 high.\n",
    "\n",
    "# Your code here\n"
   ]
  }
 ],
 "metadata": {
  "kernelspec": {
   "display_name": "Python 3",
   "language": "python",
   "name": "python3"
  },
  "language_info": {
   "codemirror_mode": {
    "name": "ipython",
    "version": 3
   },
   "file_extension": ".py",
   "mimetype": "text/x-python",
   "name": "python",
   "nbconvert_exporter": "python",
   "pygments_lexer": "ipython3",
   "version": "3.8.5"
  }
 },
 "nbformat": 4,
 "nbformat_minor": 4
}
