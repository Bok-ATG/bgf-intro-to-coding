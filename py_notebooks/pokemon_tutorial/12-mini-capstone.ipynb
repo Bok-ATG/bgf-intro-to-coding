{
 "cells": [
  {"cell_type":"markdown","metadata":{},"source":["# Mini-Capstone: Pokédex Analyzer\n","\n","Load a small dataset (in-notebook list/dict), compute stats, filter, and format outputs."]},
  {"cell_type":"code","execution_count":null,"metadata":{},"outputs":[],"source":["pokedex = [\n","  {'number':1,'name':'Bulbasaur','types':['Grass','Poison'],'hp':45,'atk':49},\n","  {'number':4,'name':'Charmander','types':['Fire'],'hp':39,'atk':52},\n","  {'number':7,'name':'Squirtle','types':['Water'],'hp':44,'atk':48},\n","  {'number':25,'name':'Pikachu','types':['Electric'],'hp':35,'atk':55},\n","]\n","# 1) Compute: count, average hp/atk\n","count = len(pokedex)\n","avg_hp = sum(p['hp'] for p in pokedex)/count\n","avg_atk = sum(p['atk'] for p in pokedex)/count\n","print('Count:', count, 'Avg HP:', round(avg_hp,1), 'Avg ATK:', round(avg_atk,1))\n","# 2) Filter: all Fire or Electric types\n","fe = [p for p in pokedex if ('Fire' in p['types']) or ('Electric' in p['types'])]\n","print('Fire/Electric:', [p['name'] for p in fe])\n","# 3) Format a simple team setlist line\n","cards = [f\"#{p['number']} {p['name']} — HP:{p['hp']} ATK:{p['atk']}\" for p in pokedex]\n","print('\n'.join(cards))"]},
  {"cell_type":"markdown","metadata":{},"source":["## Stretch Goals\n","- Load pokedex.json from the Files & JSON notebook.\n","- Add functions (from Functions notebook) to format cards and compute toy damage.\n","- Plot a tiny bar chart using text (no libs): print name and a bar of '#' repeated hp//2 times."]}
 ],
 "metadata": {"kernelspec": {"display_name": "Python 3", "language": "python", "name": "python3"}, "language_info": {"name":"python","version":"3.8.5","mimetype":"text/x-python","file_extension":".py","pygments_lexer":"ipython3","codemirror_mode":{"name":"ipython","version":3}, "nbconvert_exporter":"python"}},
 "nbformat": 4,
 "nbformat_minor": 4
}
