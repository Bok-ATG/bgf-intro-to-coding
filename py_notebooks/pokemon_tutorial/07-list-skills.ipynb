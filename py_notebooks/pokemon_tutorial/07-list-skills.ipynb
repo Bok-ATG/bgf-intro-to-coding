{
 "cells": [
  {"cell_type":"markdown","metadata":{},"source":["# Pokémon Python Tutorial: List Skills\n","Methods, slicing, and list comprehensions."]},
  {"cell_type":"markdown","metadata":{},"source":["## Common methods"]},
  {"cell_type":"code","execution_count":null,"metadata":{},"outputs":[],"source":["team = ['Bulbasaur','Pikachu','Eevee']\n","team.append('Charmander')\n","team.insert(1, 'Squirtle')\n","team.remove('Eevee')\n","print(team)\n","team.sort()\n","print('Sorted:', team)\n","print('Slice:', team[1:3])"]},
  {"cell_type":"markdown","metadata":{},"source":["## List comprehensions"]},
  {"cell_type":"code","execution_count":null,"metadata":{},"outputs":[],"source":["pokedex = [\n","    {'number':1,'name':'Bulbasaur','hp':45},\n","    {'number':4,'name':'Charmander','hp':39},\n","    {'number':7,'name':'Squirtle','hp':44},\n","    {'number':25,'name':'Pikachu','hp':35},\n","]\n","names = [p['name'] for p in pokedex]\n","high_hp = [p for p in pokedex if p['hp'] >= 44]\n","print(names)\n","print(high_hp)"]},
  {"cell_type":"markdown","metadata":{},"source":["## Practice Time! 🧪"]},
  {"cell_type":"code","execution_count":null,"metadata":{},"outputs":[],"source":["# Exercise: Build a new list of (name, hp) tuples for all Pokémon with hp < 45 using a comprehension.\n","# Your code here\n"]}
 ],
 "metadata": {"kernelspec": {"display_name": "Python 3", "language": "python", "name": "python3"}, "language_info": {"name":"python","version":"3.8.5","mimetype":"text/x-python","file_extension":".py","pygments_lexer":"ipython3","codemirror_mode":{"name":"ipython","version":3}, "nbconvert_exporter":"python"}},
 "nbformat": 4,
 "nbformat_minor": 4
}
