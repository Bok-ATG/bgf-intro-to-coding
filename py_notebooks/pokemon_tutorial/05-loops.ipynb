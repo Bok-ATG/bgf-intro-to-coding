{
 "cells": [
  {"cell_type":"markdown","metadata":{},"source":["# Pokémon Python Tutorial: Loops\n","\n","Iterate with for and while; use break/continue and enumerate()."]},
  {"cell_type":"markdown","metadata":{},"source":["## for loops over lists"]},
  {"cell_type":"code","execution_count":null,"metadata":{},"outputs":[],"source":["team = ['Pikachu','Charmander','Squirtle']\n","for mon in team:\n","    print(mon)"]},
  {"cell_type":"markdown","metadata":{},"source":["## range() and enumerate()"]},
  {"cell_type":"code","execution_count":null,"metadata":{},"outputs":[],"source":["for i in range(3):\n","    print('Turn', i+1)\n","\n","for idx, mon in enumerate(team, start=1):\n","    print(idx, mon)"]},
  {"cell_type":"markdown","metadata":{},"source":["## Iterating dictionaries"]},
  {"cell_type":"code","execution_count":null,"metadata":{},"outputs":[],"source":["pikachu = {'name':'Pikachu','hp':35,'types':['Electric']}\n","for key, value in pikachu.items():\n","    print(key, '→', value)"]},
  {"cell_type":"markdown","metadata":{},"source":["## while loops; break/continue"]},
  {"cell_type":"code","execution_count":null,"metadata":{},"outputs":[],"source":["hp = 20\n","turns = 0\n","while hp > 0:\n","    turns += 1\n","    hp -= 7\n","    if hp < 10 and hp > 0:\n","        print('Using potion, skipping attack this turn')\n","        hp += 5\n","        continue\n","    print('Attack! Remaining HP:', hp)\n","    if turns == 10:\n","        print('Battle timeout!')\n","        break"]},
  {"cell_type":"markdown","metadata":{},"source":["## Practice Time!🔁"]},
  {"cell_type":"code","execution_count":null,"metadata":{},"outputs":[],"source":["# Exercise 1: Loop through a pokedex list of dicts and print only names of Fire types.\n","# Exercise 2: Use a while loop to reduce HP to 0 in steps of 8 and count turns.\n","\n","# Your code here\n"]}
 ],
 "metadata": {"kernelspec": {"display_name": "Python 3", "language": "python", "name": "python3"}, "language_info": {"name":"python","version":"3.8.5","mimetype":"text/x-python","file_extension":".py","pygments_lexer":"ipython3","codemirror_mode":{"name":"ipython","version":3}, "nbconvert_exporter":"python"}},
 "nbformat": 4,
 "nbformat_minor": 4
}
