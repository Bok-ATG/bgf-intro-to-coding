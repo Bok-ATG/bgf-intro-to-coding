{
 "cells": [
  {
   "cell_type": "markdown",
   "metadata": {},
   "source": [
    "# Pokémon Python Tutorial: Variables & Types\n",
    "\n",
    "Welcome to Python programming with a Pokémon twist! We'll explore Python's basic data types using a mini Pokédex.\n",
    "\n",
    "## Learning Goals\n",
    "- Understand core data types: strings, integers, floats, booleans, and None\n",
    "- Create and use variables\n",
    "- Check types with `type()`\n",
    "- Format text with f-strings\n",
    "- Cast between types\n"
   ]
  },
  {
   "cell_type": "markdown",
   "metadata": {},
   "source": [
    "## Variables & Data Types\n",
    "\n",
    "Let's define a Pokémon using different Python data types:"
   ]
  },
  {
   "cell_type": "code",
   "execution_count": null,
   "metadata": {},
   "outputs": [],
   "source": [
    "# Strings (text)\n",
    "pokemon_name = \"Pikachu\"\n",
    "primary_type = \"Electric\"\n",
    "\n",
    "# Integers (whole numbers)\n",
    "pokedex_number = 25\n",
    "hp = 35\n",
    "base_attack = 55\n",
    "\n",
    "# Floats (decimals)\n",
    "height_m = 0.4\n",
    "weight_kg = 6.0\n",
    "\n",
    "# Booleans (True/False)\n",
    "is_legendary = False\n",
    "\n",
    "# None (\"no value yet\")\n",
    "caught_date = None\n",
    "\n",
    "# Peek at values and their types\n",
    "print(pokemon_name, \"→\", type(pokemon_name))\n",
    "print(pokedex_number, \"→\", type(pokedex_number))\n",
    "print(height_m, \"→\", type(height_m))\n",
    "print(is_legendary, \"→\", type(is_legendary))\n",
    "print(caught_date, \"→\", type(caught_date))\n"
   ]
  },
  {
   "cell_type": "markdown",
   "metadata": {},
   "source": [
    "## F-String Formatting\n",
    "\n",
    "F-strings let you embed variables directly into strings:"
   ]
  },
  {
   "cell_type": "code",
   "execution_count": null,
   "metadata": {},
   "outputs": [],
   "source": [
    "print(f\"#{pokedex_number} {pokemon_name} is a {primary_type}-type Pokémon.\")\n",
    "print(f\"It stands {height_m} m tall and weighs {weight_kg} kg.\")\n",
    "# You can do calculations inside f-strings\n",
    "bmi_like = weight_kg / (height_m ** 2)\n",
    "print(f\"A fun (not real!) index for {pokemon_name} is {bmi_like:.1f}.\")\n"
   ]
  },
  {
   "cell_type": "markdown",
   "metadata": {},
   "source": [
    "## Type Casting\n",
    "\n",
    "Convert between types when needed:"
   ]
  },
  {
   "cell_type": "code",
   "execution_count": null,
   "metadata": {},
   "outputs": [],
   "source": [
    "num_str = str(pokedex_number)      # int → str\n",
    "hp_str = \"35\"\n",
    "hp_int = int(hp_str)               # str digits → int\n",
    "weight_str = \"6.0\"\n",
    "weight_float = float(weight_str)   # str → float\n",
    "\n",
    "print(\"num_str\", num_str, type(num_str))\n",
    "print(\"hp_int\", hp_int, type(hp_int))\n",
    "print(\"weight_float\", weight_float, type(weight_float))\n",
    "\n",
    "# Casting float → int truncates the decimals\n",
    "print(int(weight_float))\n"
   ]
  },
  {
   "cell_type": "markdown",
   "metadata": {},
   "source": [
    "## Practice Time! ⚡\n",
    "Try these exercises:"
   ]
  },
  {
   "cell_type": "code",
   "execution_count": null,
   "metadata": {},
   "outputs": [],
   "source": [
    "# Exercise 1:\n",
    "# Create variables for another Pokémon (e.g., Bulbasaur) using all 5 core types:\n",
    "# name (str), primary_type (str), pokedex_number (int), height_m (float), is_legendary (bool),\n",
    "# and a placeholder None value (like caught_date). Then print them with types.\n",
    "\n",
    "# Your code here\n"
   ]
  },
  {
   "cell_type": "code",
   "execution_count": null,
   "metadata": {},
   "outputs": [],
   "source": [
    "# Exercise 2:\n",
    "# Change weight_kg to a new float value and print an f-string about the change.\n",
    "\n",
    "# Your code here\n"
   ]
  },
  {
   "cell_type": "code",
   "execution_count": null,
   "metadata": {},
   "outputs": [],
   "source": [
    "# Exercise 3:\n",
    "# Make \"years_trained\" as an int and print a sentence with an f-string.\n",
    "\n",
    "# Your code here\n"
   ]
  },
  {
   "cell_type": "markdown",
   "metadata": {},
   "source": [
    "## Key Takeaways\n",
    "- str, int, float, bool, NoneType\n",
    "- f-strings for readable output\n",
    "- Casting with str(), int(), float()\n",
    "\n",
    "Next up: Collections (Lists & Dictionaries) — we’ll organize a mini Pokédex! 🧭\n"
   ]
  }
 ],
 "metadata": {
  "kernelspec": {
   "display_name": "Python 3",
   "language": "python",
   "name": "python3"
  },
  "language_info": {
   "codemirror_mode": {
    "name": "ipython",
    "version": 3
   },
   "file_extension": ".py",
   "mimetype": "text/x-python",
   "name": "python",
   "nbconvert_exporter": "python",
   "pygments_lexer": "ipython3",
   "version": "3.8.5"
  }
 },
 "nbformat": 4,
 "nbformat_minor": 4
}
