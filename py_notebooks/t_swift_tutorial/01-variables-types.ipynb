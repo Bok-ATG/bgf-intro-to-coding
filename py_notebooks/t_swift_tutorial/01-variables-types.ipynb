{
 "cells": [
  {
   "cell_type": "markdown",
   "metadata": {},
   "source": [
    "# Taylor Swift Python Tutorial: Variables & Types\n",
    "\n",
    "Welcome to Python programming with a Taylor Swift twist! In this notebook, we'll explore Python's basic data types using our favorite artist's data.\n",
    "\n",
    "## Learning Goals\n",
    "- Understand Python's core data types: strings, integers, floats, booleans, and None\n",
    "- Learn how to create and use variables\n",
    "- Practice type checking with `type()`\n",
    "- Master f-string formatting\n",
    "- Practice type casting between different data types"
   ]
  },
  {
   "cell_type": "markdown",
   "metadata": {},
   "source": [
    "## Variables & Data Types\n",
    "\n",
    "Let's start by creating some variables about Taylor Swift using different Python data types:"
   ]
  },
  {
   "cell_type": "code",
   "execution_count": null,
   "metadata": {},
   "source": [
    "# Strings (text)\n",
    "artist = \"Taylor Swift\"\n",
    "era = \"1989 (Taylor's Version)\"\n",
    "\n",
    "# Integers (whole numbers)\n",
    "debut_year = 2006\n",
    "grammys_won = 14  # update as needed\n",
    "\n",
    "# Floats (numbers with decimals)\n",
    "avg_track_length_minutes = 3.85\n",
    "\n",
    "# Booleans (True/False)\n",
    "is_on_tour = True\n",
    "\n",
    "# None (the \"no value yet\" placeholder)\n",
    "surprise_song = None\n",
    "\n",
    "# Peek at values and their types\n",
    "print(artist, \"→\", type(artist))\n",
    "print(debut_year, \"→\", type(debut_year))\n",
    "print(avg_track_length_minutes, \"→\", type(avg_track_length_minutes))\n",
    "print(is_on_tour, \"→\", type(is_on_tour))\n",
    "print(surprise_song, \"→\", type(surprise_song))"
   ],
   "outputs": []
  },
  {
   "cell_type": "markdown",
   "metadata": {},
   "source": [
    "## F-String Formatting\n",
    "\n",
    "F-strings are the modern, preferred way to format strings in Python. They let you embed variables directly into strings:"
   ]
  },
  {
   "cell_type": "code",
   "execution_count": null,
   "metadata": {},
   "source": [
    "# Combining strings with f-strings (preferred method)\n",
    "print(f\"{artist} re-recorded {era} and averages ~{avg_track_length_minutes} minutes per track.\")\n",
    "\n",
    "# You can also do calculations inside f-strings\n",
    "total_albums = 10\n",
    "print(f\"{artist} has released {total_albums} studio albums since {debut_year}.\")\n",
    "print(f\"That's an average of {(2024 - debut_year) / total_albums:.1f} years between albums!\")"
   ],
   "outputs": []
  },
  {
   "cell_type": "markdown",
   "metadata": {},
   "source": [
    "## Type Casting\n",
    "\n",
    "Sometimes you need to convert between different data types. Here's how:"
   ]
  },
  {
   "cell_type": "code",
   "execution_count": null,
   "metadata": {},
   "source": [
    "# Casting between types (be intentional!)\n",
    "year_str = str(debut_year)     # int → str\n",
    "tracks_str = \"16\"\n",
    "tracks_int = int(tracks_str)   # str of digits → int\n",
    "\n",
    "print(\"Year as string:\", year_str, \"→\", type(year_str))\n",
    "print(\"Tracks as int:\", tracks_int, \"→\", type(tracks_int))\n",
    "\n",
    "# More casting examples\n",
    "duration_str = \"3.75\"\n",
    "duration_float = float(duration_str)  # str → float\n",
    "duration_int = int(duration_float)    # float → int (loses decimal part)\n",
    "\n",
    "print(f\"Duration as string: {duration_str} → {type(duration_str)}\")\n",
    "print(f\"Duration as float: {duration_float} → {type(duration_float)}\")\n",
    "print(f\"Duration as int: {duration_int} → {type(duration_int)}\")"
   ],
   "outputs": []
  },
  {
   "cell_type": "markdown",
   "metadata": {},
   "source": [
    "## Practice Time! 🎵\n",
    "\n",
    "Try these exercises to practice what you've learned:"
   ]
  },
  {
   "cell_type": "code",
   "execution_count": null,
   "metadata": {},
   "source": [
    "# Practice Exercise 1:\n",
    "# Create variables for your favorite Taylor Swift song and album\n",
    "# Include: song title (str), album name (str), track number (int), \n",
    "#         duration in minutes (float), and whether it's a single (bool)\n",
    "\n",
    "# Your code here:\n",
    "\n",
    "\n",
    "# Print them all with their types"
   ],
   "outputs": []
  },
  {
   "cell_type": "code",
   "execution_count": null,
   "metadata": {},
   "source": [
    "# Practice Exercise 2:\n",
    "# Change avg_track_length_minutes to 4.05 and create an f-string sentence about it\n",
    "\n",
    "# Your code here:\n",
    "\n"
   ],
   "outputs": []
  },
  {
   "cell_type": "code",
   "execution_count": null,
   "metadata": {},
   "source": [
    "# Practice Exercise 3:\n",
    "# Create a new variable 'tour_years' as an int (how many years she's been touring)\n",
    "# Print a sentence about it using an f-string\n",
    "\n",
    "# Your code here:\n",
    "\n"
   ],
   "outputs": []
  },
  {
   "cell_type": "markdown",
   "metadata": {},
   "source": [
    "## Key Takeaways\n",
    "\n",
    "- **Strings** (`str`): Text data, created with quotes\n",
    "- **Integers** (`int`): Whole numbers\n",
    "- **Floats** (`float`): Numbers with decimal points\n",
    "- **Booleans** (`bool`): `True` or `False` values\n",
    "- **None** (`NoneType`): Represents \"no value\"\n",
    "- **F-strings**: Modern way to format strings with `f\"text {variable} more text\"`\n",
    "- **Type casting**: Convert between types with `str()`, `int()`, `float()`, etc.\n",
    "\n",
    "Next up: Collections (Lists & Dictionaries) - where we'll organize Taylor's discography! 🎤"
   ]
  }
 ],
 "metadata": {
  "kernelspec": {
   "display_name": "Python 3",
   "language": "python",
   "name": "python3"
  },
  "language_info": {
   "codemirror_mode": {
    "name": "ipython",
    "version": 3
   },
   "file_extension": ".py",
   "mimetype": "text/x-python",
   "name": "python",
   "nbconvert_exporter": "python",
   "pygments_lexer": "ipython3",
   "version": "3.8.5"
  }
 },
 "nbformat": 4,
 "nbformat_minor": 4
}