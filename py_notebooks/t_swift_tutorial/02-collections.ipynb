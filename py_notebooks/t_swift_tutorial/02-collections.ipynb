{
 "cells": [
  {
   "cell_type": "markdown",
   "metadata": {},
   "source": [
    "# Taylor Swift Python Tutorial: Collections (Lists & Dictionaries)\n",
    "\n",
    "Welcome back, Swifties! Now that we know about basic data types, let's learn how to organize Taylor's extensive discography using Python collections.\n",
    "\n",
    "## Learning Goals\n",
    "- Master **lists**: ordered collections that can contain duplicates\n",
    "- Master **dictionaries**: key-value pairs for structured data\n",
    "- Learn when to use lists vs dictionaries\n",
    "- Practice accessing, modifying, and working with collections\n",
    "- Understand tuples and sets (bonus!)"
   ]
  },
  {
   "cell_type": "markdown",
   "metadata": {},
   "source": [
    "## Lists: Ordered Collections\n",
    "\n",
    "Lists are perfect for things like tracklists, where **order matters** and you might have duplicates:"
   ]
  },
  {
   "cell_type": "code",
   "execution_count": null,
   "metadata": {},
   "source": [
    "# A list (array) of songs on an album (order matters, duplicates allowed)\n",
    "songs_1989_tv = [\n",
    "    \"Welcome To New York\",\n",
    "    \"Blank Space\",\n",
    "    \"Style\",\n",
    "    \"Out Of The Woods\",\n",
    "    \"All You Had To Do Was Stay\",\n",
    "    \"Shake It Off\",\n",
    "    \"I Wish You Would\",\n",
    "    \"Bad Blood\",\n",
    "    \"Wildest Dreams\",\n",
    "    \"How You Get The Girl\",\n",
    "    \"This Love\",\n",
    "    \"I Know Places\",\n",
    "    \"Clean\"\n",
    "]\n",
    "\n",
    "print(f\"1989 (Taylor's Version) has {len(songs_1989_tv)} tracks\")\n",
    "print(f\"First song: {songs_1989_tv[0]}\")\n",
    "print(f\"Last song: {songs_1989_tv[-1]}\")\n",
    "print(f\"Third song: {songs_1989_tv[2]}\")"
   ],
   "outputs": []
  },
  {
   "cell_type": "markdown",
   "metadata": {},
   "source": [
    "## List Operations\n",
    "\n",
    "Lists are **mutable** - you can change them after creation:"
   ]
  },
  {
   "cell_type": "code",
   "execution_count": null,
   "metadata": {},
   "source": [
    "# Start with a small list of eras\n",
    "eras = [\"Fearless\", \"Speak Now\", \"Red\"]\n",
    "print(f\"Original eras: {eras}\")\n",
    "\n",
    "# Add more eras\n",
    "eras.append(\"1989\")  # Add one item to the end\n",
    "eras.extend([\"reputation\", \"Lover\"])  # Add multiple items\n",
    "print(f\"After adding: {eras}\")\n",
    "\n",
    "# Insert at specific position\n",
    "eras.insert(0, \"Taylor Swift\")  # Insert at beginning\n",
    "print(f\"After inserting debut: {eras}\")\n",
    "\n",
    "# Remove items\n",
    "eras.remove(\"Red\")  # Remove by value\n",
    "print(f\"After removing Red: {eras}\")\n",
    "\n",
    "# Pop removes and returns the last item (or at specific index)\n",
    "last_era = eras.pop()\n",
    "print(f\"Popped '{last_era}', remaining: {eras}\")"
   ],
   "outputs": []
  },
  {
   "cell_type": "markdown",
   "metadata": {},
   "source": [
    "## List Slicing\n",
    "\n",
    "Get portions of lists using slice notation `[start:end]`:"
   ]
  },
  {
   "cell_type": "code",
   "execution_count": null,
   "metadata": {},
   "source": [
    "# Get first 3 songs from 1989\n",
    "first_three = songs_1989_tv[0:3]  # or just songs_1989_tv[:3]\n",
    "print(f\"First three songs: {first_three}\")\n",
    "\n",
    "# Get last 3 songs\n",
    "last_three = songs_1989_tv[-3:]  # from 3rd-to-last to end\n",
    "print(f\"Last three songs: {last_three}\")\n",
    "\n",
    "# Get middle songs (skip first and last)\n",
    "middle_songs = songs_1989_tv[1:-1]\n",
    "print(f\"Middle songs ({len(middle_songs)} total): {middle_songs}\")\n",
    "\n",
    "# Every other song\n",
    "every_other = songs_1989_tv[::2]  # start:end:step\n",
    "print(f\"Every other song: {every_other}\")"
   ],
   "outputs": []
  },
  {
   "cell_type": "markdown",
   "metadata": {},
   "source": [
    "## Dictionaries: Key-Value Collections\n",
    "\n",
    "Dictionaries are perfect for structured data where you want to look things up by name/key:"
   ]
  },
  {
   "cell_type": "code",
   "execution_count": null,
   "metadata": {},
   "source": [
    "# A dictionary with album information\n",
    "album_1989 = {\n",
    "    \"title\": \"1989 (Taylor's Version)\",\n",
    "    \"year\": 2023,  # re-release year\n",
    "    \"original_year\": 2014,\n",
    "    \"genre\": \"Pop\",\n",
    "    \"track_count\": 13,\n",
    "    \"is_rerecording\": True,\n",
    "    \"lead_single\": \"Shake It Off\"\n",
    "}\n",
    "\n",
    "print(f\"Album: {album_1989['title']}\")\n",
    "print(f\"Released: {album_1989['year']} (originally {album_1989['original_year']})\")\n",
    "print(f\"Genre: {album_1989['genre']}\")\n",
    "print(f\"Tracks: {album_1989['track_count']}\")"
   ],
   "outputs": []
  },
  {
   "cell_type": "markdown",
   "metadata": {},
   "source": [
    "## Dictionary Operations\n",
    "\n",
    "Like lists, dictionaries are mutable:"
   ]
  },
  {
   "cell_type": "code",
   "execution_count": null,
   "metadata": {},
   "source": [
    "# Add new key-value pairs\n",
    "album_1989[\"producer\"] = \"Taylor Swift, Jack Antonoff\"\n",
    "album_1989[\"awards\"] = [\"Grammy Award for Best Pop Vocal Album\"]\n",
    "\n",
    "# Update existing values\n",
    "album_1989[\"track_count\"] = 21  # including vault tracks!\n",
    "\n",
    "print(f\"Updated track count: {album_1989['track_count']}\")\n",
    "print(f\"Producer: {album_1989['producer']}\")\n",
    "\n",
    "# Safe way to get values (won't crash if key doesn't exist)\n",
    "label = album_1989.get(\"label\", \"Unknown\")\n",
    "print(f\"Label: {label}\")\n",
    "\n",
    "# Check if a key exists\n",
    "if \"awards\" in album_1989:\n",
    "    print(f\"Awards: {album_1989['awards']}\")"
   ],
   "outputs": []
  },
  {
   "cell_type": "markdown",
   "metadata": {},
   "source": [
    "## Working with Dictionary Keys, Values, and Items\n",
    "\n",
    "Dictionaries give you easy access to their components:"
   ]
  },
  {
   "cell_type": "code",
   "execution_count": null,
   "metadata": {},
   "source": [
    "# Get all keys\n",
    "print(f\"Album keys: {list(album_1989.keys())}\")\n",
    "\n",
    "# Get all values  \n",
    "print(f\"Album values: {list(album_1989.values())}\")\n",
    "\n",
    "# Get key-value pairs\n",
    "print(\"Album details:\")\n",
    "for key, value in album_1989.items():\n",
    "    print(f\"  {key}: {value}\")"
   ],
   "outputs": []
  },
  {
   "cell_type": "markdown",
   "metadata": {},
   "source": [
    "## Nested Collections\n",
    "\n",
    "Real data often requires collections inside collections:"
   ]
  },
  {
   "cell_type": "code",
   "execution_count": null,
   "metadata": {},
   "source": [
    "# A more complex data structure: discography\n",
    "taylor_discography = {\n",
    "    \"taylor_swift\": {\n",
    "        \"year\": 2006,\n",
    "        \"genre\": \"Country\",\n",
    "        \"top_songs\": [\"Tim McGraw\", \"Teardrops On My Guitar\", \"Our Song\"]\n",
    "    },\n",
    "    \"fearless\": {\n",
    "        \"year\": 2008,\n",
    "        \"genre\": \"Country Pop\",\n",
    "        \"top_songs\": [\"Love Story\", \"You Belong With Me\", \"White Horse\"]\n",
    "    },\n",
    "    \"1989\": {\n",
    "        \"year\": 2014,\n",
    "        \"genre\": \"Pop\",\n",
    "        \"top_songs\": [\"Shake It Off\", \"Blank Space\", \"Style\"]\n",
    "    }\n",
    "}\n",
    "\n",
    "# Access nested data\n",
    "fearless_year = taylor_discography[\"fearless\"][\"year\"]\n",
    "fearless_hit = taylor_discography[\"fearless\"][\"top_songs\"][0]\n",
    "\n",
    "print(f\"Fearless was released in {fearless_year}\")\n",
    "print(f\"The first hit was: {fearless_hit}\")\n",
    "\n",
    "# Loop through the discography\n",
    "print(\"\\nTaylor's Evolution:\")\n",
    "for album, details in taylor_discography.items():\n",
    "    print(f\"{album.title()}: {details['genre']} ({details['year']})\")"
   ],
   "outputs": []
  },
  {
   "cell_type": "markdown",
   "metadata": {},
   "source": [
    "## Tuples and Sets (Bonus!)\n",
    "\n",
    "Two more collection types you should know about:"
   ]
  },
  {
   "cell_type": "code",
   "execution_count": null,
   "metadata": {},
   "source": [
    "# Tuples: like lists but immutable (can't change after creation)\n",
    "grammy_wins_2021 = (\"Album of the Year\", \"Best Pop Vocal Album\", \"Best Alternative Music Album\")\n",
    "print(f\"2021 Grammy wins: {grammy_wins_2021}\")\n",
    "print(f\"First win: {grammy_wins_2021[0]}\")\n",
    "\n",
    "# Sets: unordered collection of unique items\n",
    "all_genres = {\"Country\", \"Pop\", \"Alternative\", \"Folk\", \"Pop\", \"Country\"}  # duplicates removed\n",
    "print(f\"Genres Taylor has explored: {all_genres}\")\n",
    "print(f\"Number of unique genres: {len(all_genres)}\")\n",
    "\n",
    "# Set operations\n",
    "early_genres = {\"Country\", \"Country Pop\"}\n",
    "later_genres = {\"Pop\", \"Alternative\", \"Folk\"}\n",
    "common = early_genres & later_genres  # intersection\n",
    "all_combined = early_genres | later_genres  # union\n",
    "\n",
    "print(f\"Common genres: {common}\")\n",
    "print(f\"All genres combined: {all_combined}\")"
   ],
   "outputs": []
  },
  {
   "cell_type": "markdown",
   "metadata": {},
   "source": [
    "## Practice Time! 🎵\n",
    "\n",
    "Let's practice with some Taylor Swift data:"
   ]
  },
  {
   "cell_type": "code",
   "execution_count": null,
   "metadata": {},
   "source": [
    "# Practice Exercise 1:\n",
    "# Create a list of your top 5 Taylor Swift songs\n",
    "# Print the first song, last song, and middle song\n",
    "\n",
    "# Your code here:\n",
    "\n"
   ],
   "outputs": []
  },
  {
   "cell_type": "code",
   "execution_count": null,
   "metadata": {},
   "source": [
    "# Practice Exercise 2:\n",
    "# Create a dictionary for your favorite Taylor Swift album with at least:\n",
    "# title, year, your_rating (1-10), favorite_song, and least_favorite_song\n",
    "# Then print a summary sentence using the data\n",
    "\n",
    "# Your code here:\n",
    "\n"
   ],
   "outputs": []
  },
  {
   "cell_type": "code",
   "execution_count": null,
   "metadata": {},
   "source": [
    "# Practice Exercise 3:\n",
    "# Create a nested dictionary with 3 albums, each containing:\n",
    "# year, track_count, and your top 3 songs from that album\n",
    "# Then loop through and print each album with its year and track count\n",
    "\n",
    "# Your code here:\n",
    "\n"
   ],
   "outputs": []
  },
  {
   "cell_type": "markdown",
   "metadata": {},
   "source": [
    "## When to Use Which Collection?\n",
    "\n",
    "| Collection Type | When to Use | Example |\n",
    "|----------------|-------------|----------|\n",
    "| **List** | Ordered data, duplicates OK | Tracklist, concert dates |\n",
    "| **Dictionary** | Key-value pairs, fast lookup | Album details, artist info |\n",
    "| **Tuple** | Immutable ordered data | Coordinates, Grammy categories |\n",
    "| **Set** | Unique items only, fast membership tests | Genres, collaborators |\n",
    "\n",
    "## Key Takeaways\n",
    "\n",
    "- **Lists** (`[]`): Ordered, mutable, allow duplicates - perfect for sequences\n",
    "- **Dictionaries** (`{}`): Key-value pairs, mutable, fast lookups - perfect for structured data\n",
    "- **Tuples** (`()`): Ordered, immutable - perfect for data that shouldn't change\n",
    "- **Sets** (`{}`): Unordered, unique items only - perfect for collections without duplicates\n",
    "- **Slicing** (`[start:end:step]`): Get portions of sequences\n",
    "- **Nested collections**: Store complex data structures\n",
    "\n",
    "Next up: Operators & Control Flow - where we'll start making decisions with our Taylor Swift data! 🎤"
   ]
  }
 ],
 "metadata": {
  "kernelspec": {
   "display_name": "Python 3",
   "language": "python",
   "name": "python3"
  },
  "language_info": {
   "codemirror_mode": {
    "name": "ipython",
    "version": 3
   },
   "file_extension": ".py",
   "mimetype": "text/x-python",
   "name": "python",
   "nbconvert_exporter": "python",
   "pygments_lexer": "ipython3",
   "version": "3.8.5"
  }
 },
 "nbformat": 4,
 "nbformat_minor": 4
}