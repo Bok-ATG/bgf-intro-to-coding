{
 "cells": [
  {"cell_type":"markdown","metadata":{},"source":["# Pokémon Python Tutorial: Modules & Packages (Concept)\n","\n","Learn the idea of import, standard library, and virtual environments (conceptual).\n","This notebook is lightweight and focuses on basics."]},
  {"cell_type":"markdown","metadata":{},"source":["## import basics"]},
  {"cell_type":"code","execution_count":null,"metadata":{},"outputs":[],"source":["import math\n","import random\n","print(math.sqrt(49))\n","print(random.choice(['Pikachu','Eevee','Charmander']))"]},
  {"cell_type":"markdown","metadata":{},"source":["## from ... import ..."]},
  {"cell_type":"code","execution_count":null,"metadata":{},"outputs":[],"source":["from math import pi\n","print(pi)"]},
  {"cell_type":"markdown","metadata":{},"source":["## Practice (concept)\n","- Look up a standard library module (e.g., `statistics`) and try one function.\n","- Consider how you'd create a `utils.py` for shared helpers in bigger projects."]}
 ],
 "metadata": {"kernelspec": {"display_name": "Python 3", "language": "python", "name": "python3"}, "language_info": {"name":"python","version":"3.8.5","mimetype":"text/x-python","file_extension":".py","pygments_lexer":"ipython3","codemirror_mode":{"name":"ipython","version":3}, "nbconvert_exporter":"python"}},
 "nbformat": 4,
 "nbformat_minor": 4
}
