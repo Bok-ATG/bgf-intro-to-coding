{
 "cells": [
  {
   "cell_type": "markdown",
   "metadata": {},
   "source": [
    "# Pokémon Python Tutorial: Operators\n",
    "\n",
    "Arithmetic, comparison, logical, membership, and identity operators with Pokémon examples."
   ]
  },
  {
   "cell_type": "markdown",
   "metadata": {},
   "source": [
    "## Arithmetic\n",
    "`+ - * / // % **`"
   ]
  },
  {
   "cell_type": "code",
   "execution_count": null,
   "metadata": {},
   "outputs": [],
   "source": [
    "atk = 55\n",
    "defense = 40\n",
    "level = 10\n",
    "print(atk + 10, atk - 5, atk * 2)\n",
    "print(defense / 3, defense // 3, defense % 3)\n",
    "print(level ** 2)\n"
   ]
  },
  {
   "cell_type": "markdown",
   "metadata": {},
   "source": [
    "## Comparison\n",
    "`== != < <= > >=`"
   ]
  },
  {
   "cell_type": "code",
   "execution_count": null,
   "metadata": {},
   "outputs": [],
   "source": [
    "hp = 35\n",
    "print(hp == 35, hp != 40, hp < 50, hp >= 30)\n"
   ]
  },
  {
   "cell_type": "markdown",
   "metadata": {},
   "source": [
    "## Logical\n",
    "`and or not`"
   ]
  },
  {
   "cell_type": "code",
   "execution_count": null,
   "metadata": {},
   "outputs": [],
   "source": [
    "ptype = 'Electric'\n",
    "fast = True\n",
    "print((ptype == 'Electric') and fast)\n",
    "print((ptype == 'Fire') or fast)\n",
    "print(not (ptype == 'Water'))\n"
   ]
  },
  {
   "cell_type": "markdown",
   "metadata": {},
   "source": [
    "## Membership\n",
    "`in` checks if a value exists in a collection"
   ]
  },
  {
   "cell_type": "code",
   "execution_count": null,
   "metadata": {},
   "outputs": [],
   "source": [
    "team = ['Pikachu', 'Eevee']\n",
    "print('Eevee' in team, 'Mew' in team)\n"
   ]
  },
  {
   "cell_type": "markdown",
   "metadata": {},
   "source": [
    "## Identity\n",
    "`is` compares object identity (same object in memory)"
   ]
  },
  {
   "cell_type": "code",
   "execution_count": null,
   "metadata": {},
   "outputs": [],
   "source": [
    "a = None\n",
    "b = None\n",
    "print(a is b)  # True, both are the single None object\n",
    "x = [1,2]\n",
    "y = [1,2]\n",
    "print(x == y, x is y)  # equal contents, different objects\n"
   ]
  },
  {
   "cell_type": "markdown",
   "metadata": {},
   "source": [
    "## Practice Time!🧪\n"
   ]
  },
  {
   "cell_type": "code",
   "execution_count": null,
   "metadata": {},
   "outputs": [],
   "source": [
    "# Exercise: Given atk, defense, level, compute a toy damage number using ops above.\n",
    "# Then test different values and compare results.\n",
    "\n",
    "# Your code here\n"
   ]
  }
 ],
 "metadata": {
  "kernelspec": {"display_name": "Python 3", "language": "python", "name": "python3"},
  "language_info": {"name": "python", "version": "3.8.5", "mimetype": "text/x-python", "file_extension": ".py", "pygments_lexer": "ipython3", "codemirror_mode": {"name": "ipython", "version": 3}, "nbconvert_exporter": "python"}
 },
 "nbformat": 4,
 "nbformat_minor": 4
}
