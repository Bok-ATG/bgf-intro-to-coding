{
 "cells": [
  {"cell_type":"markdown","metadata":{},"source":["# Pokémon Python Tutorial: Files & JSON\n","Read/write text and work with JSON using the standard library."]},
  {"cell_type":"markdown","metadata":{},"source":["## Writing and reading a text file"]},
  {"cell_type":"code","execution_count":null,"metadata":{},"outputs":[],"source":["content = 'Pokedex Notes\n- Starter: Pikachu\n- Region: Kanto'\n","with open('notes.txt','w') as f:\n","    f.write(content)\n","with open('notes.txt') as f:\n","    print(f.read())"]},
  {"cell_type":"markdown","metadata":{},"source":["## JSON with dicts/lists"]},
  {"cell_type":"code","execution_count":null,"metadata":{},"outputs":[],"source":["import json\n","pokedex = [\n","    {'number':25,'name':'Pikachu','types':['Electric'],'hp':35},\n","    {'number':1,'name':'Bulbasaur','types':['Grass','Poison'],'hp':45}\n","]\n","with open('pokedex.json','w') as f:\n","    json.dump(pokedex, f, indent=2)\n","with open('pokedex.json') as f:\n","    loaded = json.load(f)\n","print(loaded)"]},
  {"cell_type":"markdown","metadata":{},"source":["## Practice Time! 📄"]},
  {"cell_type":"code","execution_count":null,"metadata":{},"outputs":[],"source":["# Exercise: Save only Electric-type Pokémon to electric.json and reload it.\n","# Your code here\n"]}
 ],
 "metadata": {"kernelspec": {"display_name": "Python 3", "language": "python", "name": "python3"}, "language_info": {"name":"python","version":"3.8.5","mimetype":"text/x-python","file_extension":".py","pygments_lexer":"ipython3","codemirror_mode":{"name":"ipython","version":3}, "nbconvert_exporter":"python"}},
 "nbformat": 4,
 "nbformat_minor": 4
}
