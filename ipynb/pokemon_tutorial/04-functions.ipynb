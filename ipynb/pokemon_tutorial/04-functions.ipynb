{
 "cells": [
  {
   "cell_type": "markdown",
   "metadata": {},
   "source": [
    "# Pokémon Python Tutorial: Functions\n",
    "\n",
    "Write reusable code blocks with parameters and return values."
   ]
  },
  {
   "cell_type": "markdown",
   "metadata": {},
   "source": [
    "## Defining functions\n",
    "Use `def name(params):` and `return`."
   ]
  },
  {
   "cell_type": "code",
   "execution_count": null,
   "metadata": {},
   "outputs": [],
   "source": [
    "def format_card(name, number, types, hp):\n",
    "    \"\"\"Return a simple Poké card string.\n",
    "    name: str, number: int, types: list[str], hp: int\n",
    "    \"\"\"\n",
    "    return f\"#{number} {name} — Types: {', '.join(types)} — HP: {hp}\"\n",
    "\n",
    "print(format_card('Pikachu', 25, ['Electric'], 35))\n"
   ]
  },
  {
   "cell_type": "markdown",
   "metadata": {},
   "source": [
    "## Default and keyword arguments\n"
   ]
  },
  {
   "cell_type": "code",
   "execution_count": null,
   "metadata": {},
   "outputs": [],
   "source": [
    "def heal(hp, potion=20):\n",
    "    new_hp = hp + potion\n",
    "    return new_hp\n",
    "\n",
    "print(heal(30))           # uses default 20\n",
    "print(heal(30, potion=10))\n"
   ]
  },
  {
   "cell_type": "markdown",
   "metadata": {},
   "source": [
    "## A tiny damage calculator (toy)\n",
    "This is intentionally simplified for learning purposes."
   ]
  },
  {
   "cell_type": "code",
   "execution_count": null,
   "metadata": {},
   "outputs": [],
   "source": [
    "def effectiveness(attacker, defender):\n",
    "    if attacker == 'Fire' and defender in ['Grass', 'Ice', 'Bug', 'Steel']:\n",
    "        return 2.0\n",
    "    if attacker == 'Water' and defender in ['Fire', 'Rock', 'Ground']:\n",
    "        return 2.0\n",
    "    if attacker == 'Grass' and defender in ['Water', 'Rock', 'Ground']:\n",
    "        return 2.0\n",
    "    if attacker == defender:\n",
    "        return 0.5\n",
    "    return 1.0\n",
    "\n",
    "def toy_damage(attack, defense, attacker_type, defender_type):\n",
    "    base = max(1, attack - defense // 2)\n",
    "    return int(base * effectiveness(attacker_type, defender_type))\n",
    "\n",
    "print(toy_damage(55, 40, 'Fire', 'Grass'))\n",
    "print(toy_damage(55, 40, 'Electric', 'Water'))\n"
   ]
  },
  {
   "cell_type": "markdown",
   "metadata": {},
   "source": [
    "## Practice Time! 🧰"
   ]
  },
  {
   "cell_type": "code",
   "execution_count": null,
   "metadata": {},
   "outputs": [],
   "source": [
    "# Exercise 1: Write a function make_mon(name, number, types, hp) that returns a dict.\n",
    "# Then call it and print format_card(...) from that dict.\n",
    "\n",
    "# Your code here\n"
   ]
  },
  {
   "cell_type": "code",
   "execution_count": null,
   "metadata": {},
   "outputs": [],
   "source": [
    "# Exercise 2: Write a function \"level_up(hp, atk, bonus=1)\" that returns new (hp, atk)\n",
    "# using a simple formula of your choice.\n",
    "\n",
    "# Your code here\n"
   ]
  }
 ],
 "metadata": {
  "kernelspec": {
   "display_name": "Python 3",
   "language": "python",
   "name": "python3"
  },
  "language_info": {
   "codemirror_mode": {
    "name": "ipython",
    "version": 3
   },
   "file_extension": ".py",
   "mimetype": "text/x-python",
   "name": "python",
   "nbconvert_exporter": "python",
   "pygments_lexer": "ipython3",
   "version": "3.8.5"
  }
 },
 "nbformat": 4,
 "nbformat_minor": 4
}
