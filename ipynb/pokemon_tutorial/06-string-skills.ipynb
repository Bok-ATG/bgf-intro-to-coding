{
 "cells": [
  {"cell_type":"markdown","metadata":{},"source":["# Pokémon Python Tutorial: String Skills\n","Slicing, f-strings, and common methods."]},
  {"cell_type":"markdown","metadata":{},"source":["## Slicing and indexing"]},
  {"cell_type":"code","execution_count":null,"metadata":{},"outputs":[],"source":["name = 'Charmander'\n","print(name[0], name[-1])\n","print(name[:4], name[4:])\n","print(name[::2])  # step 2"]},
  {"cell_type":"markdown","metadata":{},"source":["## Methods: lower, upper, replace, split, join"]},
  {"cell_type":"code","execution_count":null,"metadata":{},"outputs":[],"source":["s = 'Pika Pika!'\n","print(s.lower(), s.upper())\n","print(s.replace('Pika','Chu'))\n","parts = 'Fire,Water,Grass'.split(',')\n","print(parts)\n","print(' & '.join(parts))"]},
  {"cell_type":"markdown","metadata":{},"source":["## f-strings formatting"]},
  {"cell_type":"code","execution_count":null,"metadata":{},"outputs":[],"source":["name='Bulbasaur'; hp=45; wt=6.9\n","print(f'{name} — HP:{hp:03d} — WT:{wt:.1f}kg')"]},
  {"cell_type":"markdown","metadata":{},"source":["## (Optional) Simple regex with re"]},
  {"cell_type":"code","execution_count":null,"metadata":{},"outputs":[],"source":["import re\n","dex_lines = '001 Bulbasaur\n002 Ivysaur\n025 Pikachu'\n","numbers = re.findall(r'^\\d{3}', dex_lines, flags=re.M)\n","print(numbers)"]},
  {"cell_type":"markdown","metadata":{},"source":["## Practice Time! ✂️"]},
  {"cell_type":"code","execution_count":null,"metadata":{},"outputs":[],"source":["# Exercise: Given 'Eevee', print first/last letters, reversed string, and a formatted card line.\n","# Your code here\n"]}
 ],
 "metadata": {"kernelspec": {"display_name": "Python 3", "language": "python", "name": "python3"}, "language_info": {"name":"python","version":"3.8.5","mimetype":"text/x-python","file_extension":".py","pygments_lexer":"ipython3","codemirror_mode":{"name":"ipython","version":3}, "nbconvert_exporter":"python"}},
 "nbformat": 4,
 "nbformat_minor": 4
}
