{
 "cells": [
  {"cell_type":"markdown","metadata":{},"source":["# Pokémon Python Tutorial: Errors & Exceptions\n","Read tracebacks, use try/except, and raise errors."]},
  {"cell_type":"markdown","metadata":{},"source":["## A simple error and traceback"]},
  {"cell_type":"code","execution_count":null,"metadata":{},"outputs":[],"source":["# Uncomment to see a ZeroDivisionError\n","# 1 / 0\n"]},
  {"cell_type":"markdown","metadata":{},"source":["## try / except / else / finally"]},
  {"cell_type":"code","execution_count":null,"metadata":{},"outputs":[],"source":["def read_hp(record):\n","    try:\n","        return int(record['hp'])\n","    except (KeyError, ValueError) as e:\n","        print('Problem reading hp:', e)\n","        return None\n","    finally:\n","        pass\n","\n","print(read_hp({'hp':35}))\n","print(read_hp({'hp':'oops'}))\n","print(read_hp({}))"]},
  {"cell_type":"markdown","metadata":{},"source":["## Raising errors"]},
  {"cell_type":"code","execution_count":null,"metadata":{},"outputs":[],"source":["def validate_type(t):\n","    valid = {'Fire','Water','Grass','Electric','Ice','Bug','Steel','Rock','Ground'}\n","    if t not in valid:\n","        raise ValueError(f'Unknown type: {t}')\n","\n","validate_type('Fire')\n","# validate_type('Dragonite-type')  # uncomment to raise"]},
  {"cell_type":"markdown","metadata":{},"source":["## Practice Time! ⚠️"]},
  {"cell_type":"code","execution_count":null,"metadata":{},"outputs":[],"source":["# Exercise: Wrap a JSON load in try/except and handle FileNotFoundError gracefully.\n","# Your code here\n"]}
 ],
 "metadata": {"kernelspec": {"display_name": "Python 3", "language": "python", "name": "python3"}, "language_info": {"name":"python","version":"3.8.5","mimetype":"text/x-python","file_extension":".py","pygments_lexer":"ipython3","codemirror_mode":{"name":"ipython","version":3}, "nbconvert_exporter":"python"}},
 "nbformat": 4,
 "nbformat_minor": 4
}
