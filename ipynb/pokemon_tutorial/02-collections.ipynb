{
 "cells": [
  {
   "cell_type": "markdown",
   "metadata": {},
   "source": [
    "# Pokémon Python Tutorial: Collections (Lists & Dictionaries)\n",
    "\n",
    "Let’s organize Pokémon data with lists, dictionaries, tuples, and sets."
   ]
  },
  {
   "cell_type": "markdown",
   "metadata": {},
   "source": [
    "## Lists\n",
    "- Ordered, indexable, allow duplicates\n",
    "- Great for teams, move lists, or Pokédex ranges"
   ]
  },
  {
   "cell_type": "code",
   "execution_count": null,
   "metadata": {},
   "outputs": [],
   "source": [
    "starter_team = [\"Pikachu\", \"Bulbasaur\", \"Charmander\", \"Squirtle\"]\n",
    "print(starter_team)\n",
    "print(starter_team[0], starter_team[-1])  # first and last\n",
    "starter_team.append(\"Eevee\")\n",
    "starter_team.remove(\"Bulbasaur\")\n",
    "print(starter_team)\n",
    "print(\"Team size:\", len(starter_team))\n"
   ]
  },
  {
   "cell_type": "markdown",
   "metadata": {},
   "source": [
    "## Dictionaries\n",
    "- Key-value pairs\n",
    "- Perfect for a single Pokémon’s stats or a Pokédex record"
   ]
  },
  {
   "cell_type": "code",
   "execution_count": null,
   "metadata": {},
   "outputs": [],
   "source": [
    "pikachu = {\n",
    "    'name': 'Pikachu',\n",
    "    'number': 25,\n",
    "    'types': ['Electric'],\n",
    "    'stats': {'hp': 35, 'atk': 55, 'def': 40}\n",
    "}\n",
    "print(pikachu['name'], pikachu['types'])\n",
    "print(pikachu.get('region', 'Unknown Region'))  # safe lookup\n",
    "pikachu['region'] = 'Kanto'\n",
    "pikachu['stats']['spd'] = 90\n",
    "print(pikachu)\n"
   ]
  },
  {
   "cell_type": "markdown",
   "metadata": {},
   "source": [
    "## Tuples & Sets\n",
    "- Tuple: immutable ordered collection\n",
    "- Set: unique elements, great for deduping"
   ]
  },
  {
   "cell_type": "code",
   "execution_count": null,
   "metadata": {},
   "outputs": [],
   "source": [
    "coordinates = (10, 20)  # (x, y)\n",
    "print(coordinates[0])\n",
    "\n",
    "types_with_dupes = ['Fire', 'Water', 'Fire', 'Grass']\n",
    "unique_types = set(types_with_dupes)\n",
    "print(unique_types)\n"
   ]
  },
  {
   "cell_type": "markdown",
   "metadata": {},
   "source": [
    "## Mini Pokédex (list of dicts)\n",
    "This is a common pattern for tabular-like data: a list where each item is a record (dict)."
   ]
  },
  {
   "cell_type": "code",
   "execution_count": null,
   "metadata": {},
   "outputs": [],
   "source": [
    "pokedex = [\n",
    "    {'number': 1, 'name': 'Bulbasaur', 'types': ['Grass', 'Poison'], 'hp': 45},\n",
    "    {'number': 4, 'name': 'Charmander', 'types': ['Fire'], 'hp': 39},\n",
    "    {'number': 7, 'name': 'Squirtle', 'types': ['Water'], 'hp': 44},\n",
    "    {'number': 25, 'name': 'Pikachu', 'types': ['Electric'], 'hp': 35},\n",
    "]\n",
    "# All names\n",
    "names = [p['name'] for p in pokedex]\n",
    "print(names)\n",
    "# Filter by type\n",
    "fire_mons = [p for p in pokedex if 'Fire' in p['types']]\n",
    "print(fire_mons)\n",
    "# Average HP\n",
    "avg_hp = sum(p['hp'] for p in pokedex) / len(pokedex)\n",
    "print(\"Average HP:\", round(avg_hp, 1))\n"
   ]
  },
  {
   "cell_type": "markdown",
   "metadata": {},
   "source": [
    "## Practice Time! 🧪"
   ]
  },
  {
   "cell_type": "code",
   "execution_count": null,
   "metadata": {},
   "outputs": [],
   "source": [
    "# Exercise 1: Add a new Pokémon dict to pokedex (e.g., Eevee) with number, types, and hp.\n",
    "# Then recompute the average HP.\n",
    "\n",
    "# Your code here\n"
   ]
  },
  {
   "cell_type": "code",
   "execution_count": null,
   "metadata": {},
   "outputs": [],
   "source": [
    "# Exercise 2: Make a set of all unique types present in pokedex.\n",
    "\n",
    "# Your code here\n"
   ]
  },
  {
   "cell_type": "markdown",
   "metadata": {},
   "source": [
    "## Key Takeaways\n",
    "- Lists for ordered collections\n",
    "- Dicts for labeled records\n",
    "- Tuples when immutability makes sense\n",
    "- Sets for uniqueness and membership tests\n"
   ]
  }
 ],
 "metadata": {
  "kernelspec": {
   "display_name": "Python 3",
   "language": "python",
   "name": "python3"
  },
  "language_info": {
   "codemirror_mode": {
    "name": "ipython",
    "version": 3
   },
   "file_extension": ".py",
   "mimetype": "text/x-python",
   "name": "python",
   "nbconvert_exporter": "python",
   "pygments_lexer": "ipython3",
   "version": "3.8.5"
  }
 },
 "nbformat": 4,
 "nbformat_minor": 4
}
